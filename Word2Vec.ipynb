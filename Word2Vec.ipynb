{
  "nbformat": 4,
  "nbformat_minor": 0,
  "metadata": {
    "colab": {
      "provenance": [],
      "authorship_tag": "ABX9TyPYEMdbY1oaREplfPfmRmFt",
      "include_colab_link": true
    },
    "kernelspec": {
      "name": "python3",
      "display_name": "Python 3"
    },
    "language_info": {
      "name": "python"
    }
  },
  "cells": [
    {
      "cell_type": "markdown",
      "metadata": {
        "id": "view-in-github",
        "colab_type": "text"
      },
      "source": [
        "<a href=\"https://colab.research.google.com/github/Happday-bot/googlegenai/blob/main/Word2Vec.ipynb\" target=\"_parent\"><img src=\"https://colab.research.google.com/assets/colab-badge.svg\" alt=\"Open In Colab\"/></a>"
      ]
    },
    {
      "cell_type": "code",
      "source": [
        "import re\n",
        "import numpy as np"
      ],
      "metadata": {
        "id": "Oa8O_uMJF1qk"
      },
      "execution_count": null,
      "outputs": []
    },
    {
      "cell_type": "code",
      "execution_count": null,
      "metadata": {
        "id": "pqlNF78st8HI"
      },
      "outputs": [],
      "source": [
        "words ={}"
      ]
    },
    {
      "cell_type": "code",
      "source": [
        "input_text = '''Title: Nelson Mandela: A Legacy of Freedom and Equality\n",
        "\n",
        "Nelson Rolihlahla Mandela, born on July 18, 1918, in the small village of Mvezo,\n",
        " in South Africa, is one of the most iconic figures of the 20th century.\n",
        " His journey from a young boy in rural Africa to becoming the first black president of South Africa and a global symbol\n",
        " of resistance against racial oppression is a story of incredible resilience, sacrifice, and an unwavering commitment to justice.\n",
        " Mandela’s life is a testament to the power of hope and perseverance in the face of unimaginable adversity.'''"
      ],
      "metadata": {
        "id": "h8SAI7BeEoFh"
      },
      "execution_count": null,
      "outputs": []
    },
    {
      "cell_type": "code",
      "source": [
        "sentences = re.split('[.,]', input_text)"
      ],
      "metadata": {
        "id": "jt2qvIUNuY3m"
      },
      "execution_count": null,
      "outputs": []
    },
    {
      "cell_type": "code",
      "source": [
        "sentences"
      ],
      "metadata": {
        "colab": {
          "base_uri": "https://localhost:8080/"
        },
        "id": "Wz2JS-QuGK-7",
        "outputId": "9bf0aec6-eb9a-408d-d682-09e736012631"
      },
      "execution_count": null,
      "outputs": [
        {
          "output_type": "execute_result",
          "data": {
            "text/plain": [
              "['Title: Nelson Mandela: A Legacy of Freedom and Equality\\n\\nNelson Rolihlahla Mandela',\n",
              " ' born on July 18',\n",
              " ' 1918',\n",
              " ' in the small village of Mvezo',\n",
              " '\\n in South Africa',\n",
              " ' is one of the most iconic figures of the 20th century',\n",
              " ' \\n His journey from a young boy in rural Africa to becoming the first black president of South Africa and a global symbol \\n of resistance against racial oppression is a story of incredible resilience',\n",
              " ' sacrifice',\n",
              " ' and an unwavering commitment to justice',\n",
              " ' \\n Mandela’s life is a testament to the power of hope and perseverance in the face of unimaginable adversity',\n",
              " '']"
            ]
          },
          "metadata": {},
          "execution_count": 55
        }
      ]
    },
    {
      "cell_type": "code",
      "source": [
        "for i in range(len(sentences)):\n",
        "  sentences[i] = sentences[i].replace('\\n', ' ')\n",
        "  sentences[i] = sentences[i].replace(\"'\", \" ' \")\n",
        "  sentences[i] = sentences[i].replace(\"’\", \" ’ \")\n",
        "  sentences[i] = sentences[i].lower()\n",
        "  if sentences[i] == '' or sentences[i] == ' ':\n",
        "    sentences.pop(i)\n",
        "\n"
      ],
      "metadata": {
        "id": "ICDgGvqJGMfH"
      },
      "execution_count": null,
      "outputs": []
    },
    {
      "cell_type": "code",
      "source": [
        "sentences"
      ],
      "metadata": {
        "colab": {
          "base_uri": "https://localhost:8080/"
        },
        "id": "2wzEzV5aHQC6",
        "outputId": "068c1d3e-53c1-482f-f110-56e725995920"
      },
      "execution_count": null,
      "outputs": [
        {
          "output_type": "execute_result",
          "data": {
            "text/plain": [
              "['title: nelson mandela: a legacy of freedom and equality  nelson rolihlahla mandela',\n",
              " ' born on july 18',\n",
              " ' 1918',\n",
              " ' in the small village of mvezo',\n",
              " '  in south africa',\n",
              " ' is one of the most iconic figures of the 20th century',\n",
              " '   his journey from a young boy in rural africa to becoming the first black president of south africa and a global symbol   of resistance against racial oppression is a story of incredible resilience',\n",
              " ' sacrifice',\n",
              " ' and an unwavering commitment to justice',\n",
              " '   mandela ’ s life is a testament to the power of hope and perseverance in the face of unimaginable adversity']"
            ]
          },
          "metadata": {},
          "execution_count": 57
        }
      ]
    },
    {
      "cell_type": "code",
      "source": [
        "sentences = ' '.join(sentences)"
      ],
      "metadata": {
        "id": "BfHcrQ7EHRR_"
      },
      "execution_count": null,
      "outputs": []
    },
    {
      "cell_type": "code",
      "source": [
        "sentences"
      ],
      "metadata": {
        "colab": {
          "base_uri": "https://localhost:8080/",
          "height": 105
        },
        "id": "20gl0vcAuql8",
        "outputId": "34da961a-e9bd-431b-cfd3-5438ba0dd185"
      },
      "execution_count": null,
      "outputs": [
        {
          "output_type": "execute_result",
          "data": {
            "text/plain": [
              "'title: nelson mandela: a legacy of freedom and equality  nelson rolihlahla mandela  born on july 18  1918  in the small village of mvezo   in south africa  is one of the most iconic figures of the 20th century    his journey from a young boy in rural africa to becoming the first black president of south africa and a global symbol   of resistance against racial oppression is a story of incredible resilience  sacrifice  and an unwavering commitment to justice    mandela ’ s life is a testament to the power of hope and perseverance in the face of unimaginable adversity'"
            ],
            "application/vnd.google.colaboratory.intrinsic+json": {
              "type": "string"
            }
          },
          "metadata": {},
          "execution_count": 59
        }
      ]
    },
    {
      "cell_type": "code",
      "source": [
        "sentences = sentences.split()"
      ],
      "metadata": {
        "id": "WiJDwCVsusI5"
      },
      "execution_count": null,
      "outputs": []
    },
    {
      "cell_type": "code",
      "source": [
        "sentences.append('end_of_token')"
      ],
      "metadata": {
        "id": "QkLeNGf-uwcW"
      },
      "execution_count": null,
      "outputs": []
    },
    {
      "cell_type": "code",
      "source": [
        "vec = np.random.uniform(-1, 1, 2106)"
      ],
      "metadata": {
        "id": "tXATfRkduxpp"
      },
      "execution_count": null,
      "outputs": []
    },
    {
      "cell_type": "code",
      "source": [
        "vec"
      ],
      "metadata": {
        "colab": {
          "base_uri": "https://localhost:8080/"
        },
        "id": "wzQSEcaJvGUR",
        "outputId": "f46f8589-2572-42f0-ac08-1ff3e04941f6"
      },
      "execution_count": null,
      "outputs": [
        {
          "output_type": "execute_result",
          "data": {
            "text/plain": [
              "array([ 0.42411253, -0.29971712, -0.12634286, ...,  0.09172815,\n",
              "        0.03012982, -0.79639791])"
            ]
          },
          "metadata": {},
          "execution_count": 45
        }
      ]
    },
    {
      "cell_type": "code",
      "source": [
        "sum(vec)"
      ],
      "metadata": {
        "colab": {
          "base_uri": "https://localhost:8080/"
        },
        "id": "Q8imqEc_5yfv",
        "outputId": "e7cc1435-fcdb-4737-c7e7-bc3af477a62c"
      },
      "execution_count": null,
      "outputs": [
        {
          "output_type": "execute_result",
          "data": {
            "text/plain": [
              "-30.221399909811414"
            ]
          },
          "metadata": {},
          "execution_count": 46
        }
      ]
    },
    {
      "cell_type": "code",
      "source": [
        "vec /= np.sum(vec)"
      ],
      "metadata": {
        "id": "dh-_hRxN54rb"
      },
      "execution_count": null,
      "outputs": []
    },
    {
      "cell_type": "code",
      "source": [
        "vec"
      ],
      "metadata": {
        "colab": {
          "base_uri": "https://localhost:8080/"
        },
        "id": "mrvwDS3Q59GO",
        "outputId": "2adc35ca-2e24-4321-e590-731b3b8bb657"
      },
      "execution_count": null,
      "outputs": [
        {
          "output_type": "execute_result",
          "data": {
            "text/plain": [
              "array([-0.01403352,  0.00991738,  0.00418058, ..., -0.00303521,\n",
              "       -0.00099697,  0.02635212])"
            ]
          },
          "metadata": {},
          "execution_count": 48
        }
      ]
    },
    {
      "cell_type": "code",
      "source": [
        "for i in range(len(sentences)):\n",
        "  if sentences[i] not in words:\n",
        "    words[sentences[i]] = np.random.uniform(-1, 1, 2106)\n",
        "    words[sentences[i]] /= np.sum(words[sentences[i]])"
      ],
      "metadata": {
        "id": "jxTUCk5w595-"
      },
      "execution_count": null,
      "outputs": []
    },
    {
      "cell_type": "code",
      "source": [],
      "metadata": {
        "id": "Spk1jYsk5_yF"
      },
      "execution_count": null,
      "outputs": []
    },
    {
      "cell_type": "markdown",
      "source": [
        "# Skip gram type of data"
      ],
      "metadata": {
        "id": "mYWeOaPv9AzA"
      }
    },
    {
      "cell_type": "code",
      "source": [
        "data = []\n",
        "for i in range(len(sentences)):\n",
        "  context_window = 6;\n",
        "  consider_output = []\n",
        "  left_side_words = [x for x in sentences[max(0,i-context_window//2):i]]\n",
        "  right_side_words = [x for x in sentences[i+1:min(len(sentences),i+1+context_window//2)]]\n",
        "\n",
        "  if len(left_side_words) > 0:\n",
        "    consider_output = words[left_side_words[0]]\n",
        "\n",
        "  for j in range(1,len(left_side_words)):\n",
        "    consider_output = np.add(words[left_side_words[j]], consider_output)\n",
        "\n",
        "  if len(left_side_words) > 0 and len(right_side_words)>0:\n",
        "    consider_output = np.add(words[right_side_words[0]],consider_output)\n",
        "  elif len(right_side_words)>0:\n",
        "    consider_output = words[right_side_words[0]]\n",
        "\n",
        "  for j in range(1,len(right_side_words)):\n",
        "    consider_output = np.add(words[right_side_words[j]], consider_output)\n",
        "  data.append({tuple(words[sentences[i]]):consider_output})\n"
      ],
      "metadata": {
        "id": "F7ZNH2DY8BrZ"
      },
      "execution_count": null,
      "outputs": []
    },
    {
      "cell_type": "markdown",
      "source": [
        "# **Writing the neural network**\n",
        "# code from the Updated classifynumbers.ipynb file from this account"
      ],
      "metadata": {
        "id": "nhHJFdlvGXaa"
      }
    },
    {
      "cell_type": "code",
      "source": [
        "import tensorflow as tf\n",
        "import numpy as np\n",
        "import random"
      ],
      "metadata": {
        "id": "H76agT5CA-l1"
      },
      "execution_count": null,
      "outputs": []
    },
    {
      "cell_type": "code",
      "source": [
        "n_layers = 2\n",
        "epoch = 6\n",
        "w_input = [len(consider_output),4000]\n",
        "w_output = [4000,len(consider_output)]\n",
        "b_input = [4000,len(consider_output)]\n",
        "b_output = [4000,len(consider_output)]\n",
        "\n",
        "W=[]\n",
        "B=[]"
      ],
      "metadata": {
        "id": "pR_6i82jD5Qn"
      },
      "execution_count": null,
      "outputs": []
    },
    {
      "cell_type": "code",
      "source": [
        "def create_network(n_layers,W,B,w_input,w_output,b_input,b_output):\n",
        "  for i in range(n_layers):\n",
        "    # weight initialisation\n",
        "\n",
        "    # Define matrix size\n",
        "    n_in = w_input[i]\n",
        "    n_out = w_output[i]\n",
        "\n",
        "    # Calculate the range for Xavier initialization\n",
        "    limit = np.sqrt(6) / np.sqrt(n_in + n_out)\n",
        "\n",
        "    W.append(tf.random.uniform((n_in, n_out), minval=-limit, maxval=limit))\n",
        "\n",
        "    # bias initialisation\n",
        "\n",
        "    # Define matrix size\n",
        "    n_in = b_input[i]\n",
        "    n_out = b_output[i]\n",
        "\n",
        "    # Calculate the range for Xavier initialization\n",
        "    limit = np.sqrt(6) / np.sqrt(n_in + n_out)\n",
        "\n",
        "    B.append(tf.random.uniform((1, n_out), minval=-limit, maxval=limit))"
      ],
      "metadata": {
        "id": "IY2hpalgJpzB"
      },
      "execution_count": null,
      "outputs": []
    },
    {
      "cell_type": "code",
      "source": [
        "def forward_pass(input,W,B,N):\n",
        "  return tf.nn.relu(np.add(np.dot(input,W[N]),B[N]))"
      ],
      "metadata": {
        "id": "GswqFOmfK9cy"
      },
      "execution_count": null,
      "outputs": []
    },
    {
      "cell_type": "code",
      "source": [
        "def backward_pass(actual_output,pred_output,output,W,B,N,learning_rate):\n",
        "  if N==0:\n",
        "    return 0\n",
        "  error = np.subtract(actual_output,pred_output)\n",
        "  gradient_decent = pred_output * (1 - pred_output)\n",
        "  delta = error * gradient_decent * learning_rate\n",
        "  B[N] = np.add(B[N],delta)\n",
        "  W[N] = np.add(W[N],np.dot(tf.transpose(output[N-1]),delta))\n",
        "  prev_actual_output = [[0 for x in range(len(output[N-1][0]))]]\n",
        "  for i in range(len(delta[0])):\n",
        "    temp = []\n",
        "    for j in range(len(output[N-1][0])):\n",
        "      temp.append(output[N-1][0][j] * (1-output[N-1][0][j]) * delta[0][i])\n",
        "    prev_actual_output = np.add(prev_actual_output,temp)\n",
        "  backward_pass(prev_actual_output,output[N-1],output,W,B,N-1,learning_rate)"
      ],
      "metadata": {
        "id": "S2Bgj-1NLA_u"
      },
      "execution_count": null,
      "outputs": []
    },
    {
      "cell_type": "code",
      "source": [
        "def send_input(input,W,B,n_layers,output):\n",
        "  for i in range(n_layers):\n",
        "    if i==0:\n",
        "      output.append(forward_pass(input,W,B,i))\n",
        "    else:\n",
        "      output.append(forward_pass(output[i-1],W,B,i))"
      ],
      "metadata": {
        "id": "84nXuR5bLFW3"
      },
      "execution_count": null,
      "outputs": []
    },
    {
      "cell_type": "code",
      "source": [
        "def nn_forward(actual_input,W,B,n_layers):\n",
        "  output = []\n",
        "  send_input(actual_input,W,B,n_layers,output)\n",
        "  return output\n",
        "def nn_backward(W,B,n_layers,normalised_actual_output,normalised_output,learning_rate):\n",
        "  learning_rate = 1\n",
        "  backward_pass(normalised_actual_output,normalised_output[n_layers-1],normalised_output,W,B,n_layers-1,learning_rate)"
      ],
      "metadata": {
        "id": "xe0DKkWuKzQk"
      },
      "execution_count": null,
      "outputs": []
    },
    {
      "cell_type": "code",
      "source": [
        "def batch_avg_normaliser(actual,pred):\n",
        "  temp_actual = actual[0]\n",
        "  temp_pred = pred[0]\n",
        "  for i in range(1, len(actual)):\n",
        "    temp_actual = np.add(temp_actual,actual[i])\n",
        "\n",
        "  for i in range(1, len(pred)):\n",
        "    for j in range(len(pred[i])):\n",
        "      temp_pred[j] = np.add(temp_pred[j],pred[i][j])\n",
        "  actual = np.divide(temp_actual,len(actual))\n",
        "  pred = []\n",
        "  for i in range(len(temp_pred)):\n",
        "    pred.append(np.divide(temp_pred[i],len(actual)))\n",
        "  return actual,pred"
      ],
      "metadata": {
        "id": "4F3MvspWLPt9"
      },
      "execution_count": null,
      "outputs": []
    },
    {
      "cell_type": "code",
      "source": [
        "def batch_spliter(data):\n",
        "  print(\"processing...\")\n",
        "  batch_size = 3\n",
        "  np.random.shuffle(data)\n",
        "  div = len(data)//batch_size\n",
        "  for i in range(div):\n",
        "    batch = data[i*batch_size:(i+1)*batch_size]\n",
        "    batch_output = []\n",
        "    batch_actual_output = []\n",
        "    for j in batch:\n",
        "      for k in j:\n",
        "        actual_input = np.array(k)\n",
        "        batch_actual_output.append(np.array(j[k]))\n",
        "        batch_output.append(nn_forward(actual_input,W,B,n_layers))\n",
        "    batch_actual_output , batch_output = batch_avg_normaliser(batch_actual_output,batch_output)\n",
        "\n",
        "    learning_rate = 1\n",
        "\n",
        "    nn_backward(W,B,n_layers,batch_actual_output,batch_output,learning_rate)"
      ],
      "metadata": {
        "id": "iNSeznSoLKri"
      },
      "execution_count": null,
      "outputs": []
    },
    {
      "cell_type": "code",
      "source": [
        "def predict(input,W,B,n_layers):\n",
        "  pred_output = []\n",
        "  for i in range(n_layers):\n",
        "    if i==0:\n",
        "      pred_output.append(forward_pass(input,W,B,i))\n",
        "    else:\n",
        "      pred_output.append(forward_pass(pred_output[i-1],W,B,i))\n",
        "  return pred_output[n_layers-1]"
      ],
      "metadata": {
        "id": "T4awTohwLcU9"
      },
      "execution_count": null,
      "outputs": []
    },
    {
      "cell_type": "code",
      "source": [
        "create_network(n_layers,W,B,w_input,w_output,b_input,b_output)"
      ],
      "metadata": {
        "id": "qpn0JV8gNjzz"
      },
      "execution_count": null,
      "outputs": []
    },
    {
      "cell_type": "code",
      "source": [
        "for i in range(epoch):\n",
        "  print(\"EPOCH :\",i+1)\n",
        "  batch_spliter(data)\n",
        "  print(\"processed epoch\",i+1)"
      ],
      "metadata": {
        "colab": {
          "base_uri": "https://localhost:8080/"
        },
        "id": "o892WZe3LOj7",
        "outputId": "dbed240a-038a-4964-8e61-94ca4f5d5b4f"
      },
      "execution_count": null,
      "outputs": [
        {
          "output_type": "stream",
          "name": "stdout",
          "text": [
            "EPOCH : 1\n",
            "processing...\n",
            "processed epoch 1\n",
            "EPOCH : 2\n",
            "processing...\n",
            "processed epoch 2\n",
            "EPOCH : 3\n",
            "processing...\n",
            "processed epoch 3\n",
            "EPOCH : 4\n",
            "processing...\n",
            "processed epoch 4\n",
            "EPOCH : 5\n",
            "processing...\n",
            "processed epoch 5\n",
            "EPOCH : 6\n",
            "processing...\n",
            "processed epoch 6\n"
          ]
        }
      ]
    },
    {
      "cell_type": "code",
      "source": [
        "import csv\n",
        "tf.experimental.numpy.experimental_enable_numpy_behavior()\n",
        "\n",
        "def save_weights_and_bias_to_csv(weights, bias, file_prefix):\n",
        "    # Save the weight matrix\n",
        "    weights_file = file_prefix + \"_weights.csv\"\n",
        "    np.savetxt(weights_file, weights, delimiter=\",\", fmt=\"%.6f\")\n",
        "    print(f\"Weights saved to {weights_file}\")\n",
        "\n",
        "    # Save the bias vector\n",
        "    bias_file = file_prefix + \"_bias.csv\"\n",
        "    np.savetxt(bias_file, bias.reshape(1, -1), delimiter=\",\", fmt=\"%.6f\")\n",
        "    print(f\"Bias saved to {bias_file}\")\n",
        "\n"
      ],
      "metadata": {
        "id": "HB70_XCxMB-m"
      },
      "execution_count": null,
      "outputs": []
    },
    {
      "cell_type": "code",
      "source": [
        "import pickle\n",
        "with open('words', 'wb') as file:\n",
        "    pickle.dump(words, file)"
      ],
      "metadata": {
        "id": "0q5oDa0qzdjx"
      },
      "execution_count": null,
      "outputs": []
    },
    {
      "cell_type": "code",
      "source": [
        "with open('words', 'rb') as file:\n",
        "    loaded_dict = pickle.load(file)\n",
        "\n",
        "print(loaded_dict)"
      ],
      "metadata": {
        "colab": {
          "base_uri": "https://localhost:8080/"
        },
        "id": "lUFy2kYm0Jc6",
        "outputId": "f82999ce-48fb-4ee9-f9e7-b38e53a8b1ae"
      },
      "execution_count": null,
      "outputs": [
        {
          "output_type": "stream",
          "name": "stdout",
          "text": [
            "{'in': array([ 0.03023014, -0.0328696 ,  0.01088362, ..., -0.04019416,\n",
            "       -0.01357347, -0.04534678]), '1990': array([ 0.10987232,  0.13309931, -0.05106468, ..., -0.04130014,\n",
            "        0.05211141,  0.10209018]), 'after': array([-0.07239091,  0.06625953, -0.01189149, ...,  0.09041256,\n",
            "       -0.05789499,  0.06864289]), '27': array([ 0.00361581,  0.00972301,  0.01166485, ...,  0.0291112 ,\n",
            "        0.03063503, -0.04127975]), 'years': array([ 0.00191419, -0.00020488, -0.00078209, ..., -0.00382933,\n",
            "       -0.00152884,  0.01125497]), 'of': array([-0.02253813,  0.0202739 ,  0.04508838, ...,  0.08365545,\n",
            "        0.08411484,  0.06375308]), 'imprisonment': array([-0.03631459, -0.06929404, -0.01395782, ...,  0.07010084,\n",
            "        0.03250318,  0.06169486]), 'nelson': array([ 0.0121048 , -0.0330327 , -0.00591223, ...,  0.01850266,\n",
            "       -0.00198471,  0.01300166]), 'mandela': array([ 0.03092289, -0.02894009,  0.01070432, ..., -0.00735793,\n",
            "        0.03318538,  0.00675994]), 'was': array([ 0.00483275,  0.0082556 ,  0.00997846, ...,  0.01475391,\n",
            "       -0.00773357, -0.00622788]), 'finally': array([-0.06632831, -0.09283457,  0.03612732, ...,  0.00126999,\n",
            "       -0.0414424 ,  0.06352496]), 'released': array([-0.02432507, -0.07482917,  0.05302394, ..., -0.08406692,\n",
            "        0.01283447,  0.02930113]), 'from': array([ 0.1102605 , -0.09347409,  0.08576948, ..., -0.01040214,\n",
            "       -0.10050384,  0.04325043]), 'prison': array([ 0.00904381,  0.00141473,  0.01059214, ..., -0.01537071,\n",
            "       -0.00764499,  0.01526232]), 'his': array([ 0.01166233, -0.00722212, -0.00069354, ..., -0.00245479,\n",
            "       -0.00489691,  0.00426953]), 'release': array([-0.06057759,  0.02600693, -0.0301081 , ...,  0.01039498,\n",
            "        0.02400126,  0.03652532]), 'came': array([-0.01632024,  0.02735635,  0.01811767, ...,  0.03821283,\n",
            "        0.00687021, -0.02692138]), 'intense': array([-0.00842986,  0.01801375, -0.00388765, ...,  0.0145574 ,\n",
            "        0.0006925 , -0.01670117]), 'international': array([ 0.00545095, -0.00223867, -0.01701284, ...,  0.00165961,\n",
            "       -0.00284163,  0.00530129]), 'pressure': array([-0.0069963 , -0.02854347,  0.02964036, ..., -0.00307076,\n",
            "       -0.03731255,  0.03292627]), 'and': array([ 0.06320425,  0.07292484, -0.11544272, ..., -0.07686942,\n",
            "        0.10400652, -0.04704834]), 'changing': array([ 0.00425434, -0.04206005, -0.04650656, ..., -0.06275446,\n",
            "       -0.00190148,  0.03118276]), 'political': array([ 0.16913985, -0.01263189, -0.0090502 , ..., -0.01402248,\n",
            "       -0.15237679,  0.03946855]), 'dynamics': array([ 0.00177258,  0.02001653, -0.00418427, ..., -0.01280267,\n",
            "       -0.01686483, -0.01117172]), 'south': array([ 0.00701966,  0.01388077,  0.01840469, ...,  0.00610623,\n",
            "        0.0167345 , -0.01708959]), 'africa': array([-0.02354847, -0.07755395, -0.07313189, ...,  0.02266772,\n",
            "        0.07828405,  0.07511947]), 'the': array([ 0.0115459 ,  0.01837818,  0.00756685, ..., -0.00641423,\n",
            "       -0.00254009,  0.00806936]), 'apartheid': array([ 0.01524699,  0.04010443,  0.03825098, ..., -0.00953293,\n",
            "       -0.00403712, -0.02881139]), 'regime': array([ 0.17084301,  0.18548341, -0.02240194, ..., -0.1483725 ,\n",
            "        0.22922213,  0.15895462]), 'facing': array([-0.0108584 ,  0.00036071, -0.02539556, ..., -0.02224265,\n",
            "        0.02183736,  0.00573963]), 'mounting': array([-0.00170025,  0.00748332, -0.00550957, ...,  0.01622172,\n",
            "        0.0136121 , -0.01044298]), 'internal': array([ 0.00124213,  0.00974097, -0.02422497, ..., -0.0144292 ,\n",
            "        0.02663185, -0.02689462]), 'strife': array([ 0.02128031, -0.03088577, -0.01638805, ..., -0.0320547 ,\n",
            "        0.00628775, -0.04282572]), 'agreed': array([ 0.02037731, -0.0036837 , -0.02060022, ...,  0.00492859,\n",
            "        0.00797122, -0.01820505]), 'to': array([ 0.01396658, -0.01096665,  0.0049043 , ...,  0.01540339,\n",
            "        0.00721656,  0.01775302]), 'begin': array([-0.01617778, -0.01245427,  0.0054019 , ..., -0.00363483,\n",
            "       -0.0158186 , -0.00615137]), 'negotiations': array([-0.04480584,  0.02097776, -0.01776374, ...,  0.01960668,\n",
            "       -0.0274206 ,  0.05231032]), 'with': array([-0.10484375, -0.24761326,  0.11956168, ...,  0.04174938,\n",
            "        0.05166996, -0.02295388]), 'anc': array([ 0.06498767,  0.02978859,  0.04160507, ...,  0.07904622,\n",
            "        0.01394446, -0.06346397]), 'other': array([-0.01285008, -0.00864658,  0.02362095, ..., -0.03988817,\n",
            "        0.01551031,  0.00148528]), 'groups': array([ 0.19661703, -0.06682275, -0.10215224, ...,  0.11164641,\n",
            "       -0.23689564,  0.13572189]), 'emerged': array([-0.09725783, -0.12301876, -0.13396155, ...,  0.06154784,\n",
            "        0.01686457,  0.13588947]), 'as': array([ 0.03012028,  0.0207048 ,  0.00650871, ..., -0.02261382,\n",
            "        0.0085454 ,  0.01649234]), 'leader': array([-0.01331224,  0.03375581,  0.0132054 , ...,  0.06489457,\n",
            "        0.02181674, -0.00623883]), 'who': array([-0.01605408, -0.09322068, -0.03540914, ..., -0.0432904 ,\n",
            "        0.04003686,  0.09742134]), 'would': array([-0.00683268, -0.01673749, -0.02478265, ...,  0.01486707,\n",
            "       -0.00434676,  0.00251469]), 'guide': array([ 0.46050764, -0.23583971, -0.29574218, ...,  0.11945741,\n",
            "        0.30118853,  0.25392329]), 'through': array([ 0.03634438, -0.03886166,  0.02655398, ..., -0.02292263,\n",
            "       -0.03552416,  0.02812915]), 'transition': array([ 0.01354483, -0.00104777,  0.01001627, ...,  0.03074911,\n",
            "       -0.0347987 ,  0.0558669 ]), 'a': array([-0.0332534 , -0.01592139, -0.03670526, ..., -0.02190941,\n",
            "        0.01233786, -0.0170447 ]), 'democratic': array([ 0.02884855, -0.03212448, -0.02594653, ..., -0.00418516,\n",
            "        0.0081551 , -0.01948116]), 'society': array([ 0.03354844,  0.01018661, -0.00524373, ..., -0.00173504,\n",
            "       -0.02523861,  0.02304162]), 'upon': array([ 0.06284296,  0.04472676, -0.04210161, ..., -0.04917012,\n",
            "        0.05745761,  0.04475612]), '’': array([ 0.00240781,  0.03306564, -0.03336883, ..., -0.03214266,\n",
            "       -0.0313202 ,  0.02571452]), 's': array([ 0.12238284,  0.05454992, -0.33789334, ...,  0.30501911,\n",
            "        0.43628481,  0.28884678]), 'first': array([ 0.09528285, -0.06132771, -0.05954831, ...,  0.08220547,\n",
            "        0.08522503,  0.06823457]), 'acts': array([-0.05115512,  0.05524858,  0.00519633, ...,  0.03011742,\n",
            "       -0.02517305, -0.00892767]), 'were': array([ 0.02760235,  0.04608075, -0.03869579, ...,  0.0209585 ,\n",
            "        0.00208333,  0.00797249]), 'advocate': array([0.16759411, 0.1707438 , 0.04518492, ..., 0.13114128, 0.0173637 ,\n",
            "       0.17560267]), 'for': array([ 0.01646991, -0.015395  ,  0.00213519, ...,  0.04753887,\n",
            "        0.02873831,  0.02518791]), 'reconciliation': array([-0.0136212 ,  0.0358486 , -0.01856634, ..., -0.03367514,\n",
            "        0.04047925,  0.03584766]), 'forgiveness': array([ 0.02025065, -0.03386799,  0.0581074 , ...,  0.03088103,\n",
            "        0.05440046, -0.00186444]), 'rather': array([ 0.03335614,  0.01898665, -0.02249491, ...,  0.0210282 ,\n",
            "       -0.03823977, -0.00466281]), 'than': array([ 0.01571736, -0.01192329, -0.03361411, ..., -0.02889864,\n",
            "        0.01152947,  0.03568884]), 'revenge': array([-0.00671241,  0.09978625,  0.04088704, ..., -0.02650459,\n",
            "       -0.00126353, -0.0221107 ]), 'he': array([-0.05157245, -0.03141356,  0.02009357, ..., -0.01925258,\n",
            "       -0.04851345,  0.04508663]), 'led': array([ 0.00422527, -0.01737038, -0.01993525, ...,  0.01138379,\n",
            "        0.01381259,  0.03075429]), 'peace': array([ 0.02515448,  0.00121661, -0.00992392, ...,  0.08783964,\n",
            "       -0.0404356 ,  0.06281975]), 'talks': array([ 0.00807049,  0.02776385,  0.00828007, ..., -0.02823073,\n",
            "       -0.02503515, -0.00834862]), 'government': array([-0.00453668,  0.01885066,  0.01656376, ..., -0.03165489,\n",
            "        0.0198355 ,  0.0215476 ]), 'eventually': array([-0.45583871, -1.54288205,  0.65127564, ..., -2.53882104,\n",
            "        0.26484774, -3.08361452]), 'resulting': array([ 0.0636238 ,  0.01062906, -0.05828528, ...,  0.0608195 ,\n",
            "        0.06140816, -0.00438012]), 'dismantling': array([-0.0007813 , -0.01219758, -0.00409546, ...,  0.01536738,\n",
            "       -0.00149185,  0.01173834]), 'drafting': array([ 5.48599701e-02,  1.07573588e-03,  2.43073382e-02, ...,\n",
            "        4.39250780e-02, -1.82173682e-02, -7.38268243e-05]), 'new': array([-0.06288969, -0.25645817,  0.01844948, ..., -0.00807761,\n",
            "        0.0341526 ,  0.25356744]), 'constitution': array([-0.02251114,  0.00614157,  0.02075634, ..., -0.01733206,\n",
            "        0.03094981,  0.01989703]), '1994': array([-0.02994473,  0.06278737, -0.04167432, ...,  0.03504705,\n",
            "       -0.00240503, -0.00384449]), 'held': array([ 0.0054571 , -0.00344666,  0.02272015, ..., -0.02549788,\n",
            "        0.01158503,  0.01251491]), 'its': array([ 0.54412984,  0.82140579,  0.48193204, ..., -0.82812803,\n",
            "        0.84307144,  0.50825376]), 'multiracial': array([-0.05241462, -0.06056967,  0.02850948, ..., -0.02213897,\n",
            "        0.05366794,  0.0300786 ]), 'elections': array([ 0.02232318, -0.04053315, -0.0393622 , ..., -0.04792956,\n",
            "        0.00962437, -0.02815174]), 'elected': array([-0.01699583,  0.01451455,  0.02470986, ..., -0.00288222,\n",
            "        0.02003316,  0.01521674]), 'black': array([0.25774599, 0.22871487, 0.01377006, ..., 0.29464179, 0.01935448,\n",
            "       0.20047774]), 'president': array([ 0.02251598,  0.00163608,  0.02346484, ..., -0.00204165,\n",
            "        0.02631536, -0.01821765]), 'country': array([ 0.07264109,  0.09294077,  0.06809133, ..., -0.03700313,\n",
            "        0.09937756,  0.08913872]), 'end_of_token': array([0.01538886, 0.02665689, 0.01960931, ..., 0.01220276, 0.02512971,\n",
            "       0.04743463]), 'struggle': array([-0.02325186, -0.03851563,  0.03336007, ..., -0.02276659,\n",
            "        0.05237071, -0.02458419]), 'india': array([-0.0339224 ,  0.02320677,  0.05251066, ...,  0.02941071,\n",
            "        0.00280812, -0.04897654]), 'gained': array([ 0.00677286,  0.05297604, -0.09575271, ..., -0.08432915,\n",
            "       -0.05259571,  0.00356531]), 'independence': array([-0.0845032 ,  0.07584156, -0.07676589, ..., -0.03889025,\n",
            "       -0.03308548,  0.11733116]), 'british': array([-0.00187935,  0.0018388 , -0.00535326, ...,  0.03596398,\n",
            "        0.02192851,  0.02862758]), 'rule': array([ 0.00841741, -0.01379741, -0.0042448 , ..., -0.00758445,\n",
            "        0.01097349,  0.00382911]), 'on': array([ 0.00844555, -0.03548506, -0.01399616, ..., -0.04576444,\n",
            "        0.04113717, -0.00658807]), 'august': array([-0.02505873, -0.00418108, -0.0141155 , ..., -0.04564154,\n",
            "        0.0127229 , -0.07992914]), '15': array([-0.08491015,  0.02299436,  0.0341689 , ..., -0.1506592 ,\n",
            "       -0.0220354 , -0.09707499]), '1947': array([-0.08219169,  0.05149379,  0.05899654, ...,  0.07713957,\n",
            "        0.00582701,  0.02832488]), 'however': array([-0.0214752 ,  0.01563796,  0.00357655, ...,  0.03047652,\n",
            "        0.00771012, -0.01071481]), 'at': array([ 0.02120688, -0.03991219,  0.01017184, ...,  0.02931763,\n",
            "        0.03490052,  0.02643914]), 'great': array([-0.03282359,  0.03326037,  0.02863705, ..., -0.00724317,\n",
            "        0.00753596, -0.01290417]), 'cost': array([ 0.02416655, -0.05567292,  0.05299066, ..., -0.00732548,\n",
            "        0.00015853, -0.05269739]), 'partition': array([ 0.00038095,  0.00974583,  0.00632991, ...,  0.00578647,\n",
            "        0.00461179, -0.00268086]), 'resulted': array([ 0.00684776, -0.01409057, -0.01418671, ...,  0.00685071,\n",
            "       -0.01012603,  0.01017781]), 'creation': array([ 0.14262665,  0.1103866 , -0.02859488, ..., -0.15582271,\n",
            "       -0.11252396,  0.00202671]), 'pakistan': array([ 0.03947249, -0.02875606,  0.00435824, ...,  0.03602569,\n",
            "        0.00980775,  0.00738744]), 'leading': array([-0.00971001, -0.02713524,  0.01512932, ...,  0.03477305,\n",
            "       -0.01251645,  0.03793359]), 'massive': array([-0.00763164,  0.02073758,  0.00555664, ..., -0.01951635,\n",
            "       -0.02141705, -0.01305445]), 'violence': array([-0.028899  ,  0.01223614,  0.03238917, ...,  0.07358528,\n",
            "        0.14707947, -0.05660852]), 'displacement': array([ 0.03298967, -0.02656017, -0.03139732, ...,  0.01698176,\n",
            "        0.02989535,  0.01351269]), 'millions': array([ 0.02444885, -0.01928126,  0.000956  , ..., -0.02445541,\n",
            "        0.02853545, -0.00964822]), 'people': array([ 0.06370042,  0.03334445,  0.01511617, ..., -0.03631816,\n",
            "       -0.00776003,  0.0042028 ]), 'along': array([-0.09089957,  0.34988239, -0.26539155, ..., -0.33374328,\n",
            "       -0.04912779,  0.24502737]), 'religious': array([-1.32268541e-02,  1.23441032e-02, -9.48457839e-05, ...,\n",
            "        1.01116028e-02,  1.29965786e-02, -1.48076589e-02]), 'lines': array([-0.03567036,  0.12601806, -0.1455434 , ..., -0.15846136,\n",
            "        0.02978393,  0.08416454]), 'gandhi': array([-0.02704563,  0.0143586 ,  0.02099249, ...,  0.02709862,\n",
            "        0.02247553,  0.01789225]), 'deeply': array([ 0.00863242,  0.00122619,  0.00682395, ...,  0.01088148,\n",
            "       -0.02109473,  0.0020652 ]), 'saddened': array([-0.00216968,  0.02024722,  0.00952689, ...,  0.00139429,\n",
            "        0.0157814 , -0.00412693]), 'by': array([ 0.07170233, -0.02433194, -0.0206805 , ..., -0.08721838,\n",
            "        0.07071831,  0.01923228]), 'dedicated': array([ 0.04499157, -0.03531036, -0.04352282, ...,  0.02820237,\n",
            "       -0.05276999, -0.00215355]), 'himself': array([ 0.03705065, -0.01851767,  0.02510513, ..., -0.03776202,\n",
            "       -0.0380265 , -0.01193722]), 'promoting': array([ 0.00389718, -0.0322925 ,  0.02744   , ..., -0.03607894,\n",
            "        0.02287793, -0.02285658]), 'between': array([-0.00093649, -0.00810444, -0.00213045, ..., -0.01303809,\n",
            "       -0.00326941, -0.01536284]), 'hindus': array([-0.09099507,  0.13998516, -0.16320697, ..., -0.0702593 ,\n",
            "        0.07414715, -0.08783972]), 'muslims': array([-0.02941962, -0.03343184,  0.0121041 , ..., -0.03663592,\n",
            "        0.02303434,  0.03870483]), 'undertook': array([ 0.08381386,  0.06128022, -0.04687182, ..., -0.07985137,\n",
            "       -0.0190887 , -0.05359689]), 'fasts': array([ 0.04702619,  0.0480308 ,  0.06138946, ...,  0.05106656,\n",
            "        0.01875228, -0.07130058]), 'public': array([ 0.01903741,  0.03213627, -0.00572396, ..., -0.03910603,\n",
            "       -0.02204031, -0.01352764]), 'appeals': array([-0.01146224,  0.01436921,  0.0040369 , ...,  0.00979988,\n",
            "        0.00933456, -0.00346449]), 'unity': array([-0.43769512,  0.66952457,  0.18666049, ..., -0.16977417,\n",
            "        0.13029322, -0.66871025]), 'but': array([-0.20974401, -0.20437248,  0.05528022, ...,  0.06368782,\n",
            "        0.09577772, -0.05119691]), 'divided': array([-0.16849566,  0.013231  , -0.21842835, ...,  0.2849538 ,\n",
            "       -0.04564688,  0.2087903 ]), 'efforts': array([ 0.04491241, -0.0307311 ,  0.03768703, ...,  0.03175903,\n",
            "        0.02332841, -0.03123934]), 'heal': array([ 0.04530746, -0.04292475,  0.01702154, ..., -0.03404108,\n",
            "        0.02246397, -0.02408354]), 'wounds': array([-0.00957688, -0.0239955 ,  0.01645066, ..., -0.03207117,\n",
            "        0.02563453, -0.01621339]), 'tragically': array([-0.01976666, -0.02316604,  0.00332918, ...,  0.02592396,\n",
            "       -0.00873013,  0.03076619]), 'cut': array([ 0.1798153 ,  0.11023971,  0.00087537, ...,  0.12967277,\n",
            "        0.09716735, -0.00510002]), 'short': array([-0.06182313, -0.03205757,  0.05806364, ..., -0.02523665,\n",
            "        0.05228096,  0.02513808]), 'january': array([-0.04535181, -0.0582937 ,  0.0441814 , ...,  0.02216261,\n",
            "       -0.03639495, -0.01919931]), '30': array([-0.02736827,  0.01252201,  0.02800695, ..., -0.00528413,\n",
            "       -0.004216  , -0.01587241]), '1948': array([-0.0754062 ,  0.10585356,  0.0644321 , ...,  0.02527118,\n",
            "        0.00671062,  0.05925431]), 'just': array([-0.07131821,  0.11013449,  0.02052803, ...,  0.01737679,\n",
            "        0.04961044, -0.07112476]), 'months': array([ 0.09631756, -0.27689016,  0.25701136, ..., -0.2842447 ,\n",
            "       -0.24108361,  0.2016957 ]), 'assassinated': array([ 0.05079611,  0.00925729,  0.01072244, ..., -0.01299039,\n",
            "        0.03819576, -0.02210649]), 'nathuram': array([ 0.00251822,  0.01229359,  0.01693239, ...,  0.01747883,\n",
            "       -0.0012703 , -0.01862424]), 'godse': array([-0.02337346,  0.03846541, -0.05188103, ..., -0.04727092,\n",
            "        0.04453696, -0.02361052]), 'hindu': array([ 0.01927302, -0.00099439, -0.03271624, ..., -0.02078204,\n",
            "       -0.03567759,  0.0417053 ]), 'nationalist': array([-0.00616131, -0.01544887, -0.02187643, ..., -0.01024481,\n",
            "       -0.01476924,  0.02929254]), 'opposed': array([ 0.01116778,  0.00131052, -0.00709593, ..., -0.01817149,\n",
            "        0.00534158,  0.01403842]), 'calls': array([ 0.01983252, -0.01361725, -0.04959928, ...,  0.02342567,\n",
            "       -0.02786592, -0.03315271]), 'death': array([-0.01893743, -0.03599359, -0.02258081, ...,  0.02674112,\n",
            "       -0.03476988,  0.03811611]), 'profound': array([ 0.16578579, -0.02339473, -0.06351963, ...,  0.05332856,\n",
            "       -0.18050952,  0.28686663]), 'loss': array([-0.0131004 ,  0.01592759, -0.00224741, ..., -0.00079714,\n",
            "        0.00421087,  0.0053251 ]), 'world': array([-0.02867974, -0.03412599,  0.04953947, ..., -0.03467983,\n",
            "        0.02893568,  0.04011742]), 'legacy': array([ 0.04162498, -0.00764157,  0.03271991, ..., -0.03557345,\n",
            "        0.00479834,  0.03645957]), 'nonviolence': array([-0.0238133 , -0.00827525,  0.00511325, ...,  0.02791658,\n",
            "       -0.01005282,  0.0380066 ]), 'truth': array([-0.00546282, -0.00988669,  0.00522708, ..., -0.00073777,\n",
            "       -0.01107836, -0.00079135]), 'endures': array([-0.02827383, -0.03113217,  0.05765477, ...,  0.03688842,\n",
            "       -0.01249459, -0.05995425]), 'this': array([-0.00295558, -0.02059308,  0.02452322, ...,  0.03478127,\n",
            "       -0.02821736,  0.01959783]), 'day': array([-0.01775798, -0.01628777,  0.01092754, ...,  0.04135777,\n",
            "        0.03657637,  0.00936506]), 'title:': array([ 0.00264631,  0.00687245, -0.01275626, ..., -0.01428609,\n",
            "        0.00405649, -0.00955653]), 'mandela:': array([-0.01494037,  0.02062605, -0.01666007, ..., -0.01230288,\n",
            "        0.00853112,  0.03467553]), 'freedom': array([-0.02284176,  0.04711924,  0.03220665, ..., -0.04187634,\n",
            "       -0.03519088, -0.04538312]), 'equality': array([ 0.0192204 , -0.02158352,  0.0183977 , ..., -0.03197782,\n",
            "        0.02076605,  0.02880498]), 'rolihlahla': array([-1.66955542e-02, -9.12606442e-03,  1.99423008e-02, ...,\n",
            "        4.54271000e-05, -8.75133849e-03,  2.32961513e-03]), 'born': array([ 0.03259937,  0.03856065,  0.00697244, ..., -0.0582707 ,\n",
            "        0.05198772,  0.04350087]), 'july': array([ 0.0224716 ,  0.01649048,  0.01120057, ..., -0.00563718,\n",
            "        0.00219333,  0.03115827]), '18': array([ 0.01907413, -0.01974258,  0.00024054, ..., -0.02772223,\n",
            "        0.02163791, -0.00539579]), '1918': array([ 0.50850916,  3.2121744 , -3.88838736, ...,  1.80021887,\n",
            "       -4.08120994, -6.88163661]), 'small': array([0.01453504, 0.02405335, 0.02587071, ..., 0.00509802, 0.02426792,\n",
            "       0.02409086]), 'village': array([-0.00656204,  0.01265702, -0.01355641, ..., -0.00967032,\n",
            "        0.00750146,  0.00753469]), 'mvezo': array([ 0.01991882,  0.06285999,  0.00693001, ...,  0.09500495,\n",
            "        0.04383936, -0.11733482]), 'is': array([-0.01433442, -0.01418111,  0.00275314, ...,  0.02463625,\n",
            "        0.01366626,  0.03040804]), 'one': array([-0.01469133, -0.0926836 , -0.03442194, ..., -0.18385377,\n",
            "        0.05714702, -0.1065804 ]), 'most': array([-0.00967409,  0.02140303,  0.01319319, ..., -0.00968206,\n",
            "       -0.01281706,  0.01820697]), 'iconic': array([ 0.05559628, -0.18694362,  0.30383688, ...,  0.13830351,\n",
            "        0.16743762,  0.32640941]), 'figures': array([ 0.07767633, -0.00471044, -0.07181571, ..., -0.09623989,\n",
            "        0.05954607, -0.04508977]), '20th': array([-0.00129387, -0.02942743, -0.02009154, ...,  0.01730649,\n",
            "       -0.00981508, -0.02175906]), 'century': array([ 0.00476242,  0.00601737,  0.01589437, ...,  0.01751396,\n",
            "        0.00347638, -0.02524976]), 'journey': array([ 0.00422406,  0.01664144,  0.0130015 , ..., -0.00791315,\n",
            "       -0.01148697,  0.00395024]), 'young': array([ 0.03417455, -0.05267389,  0.01015725, ..., -0.01783313,\n",
            "        0.02374302, -0.04758931]), 'boy': array([ 0.02663005,  0.00732516,  0.02507951, ..., -0.00377791,\n",
            "        0.01631632,  0.02477087]), 'rural': array([-0.0057861 , -0.0002614 , -0.04357402, ..., -0.00143077,\n",
            "        0.03959729, -0.02398199]), 'becoming': array([-0.01839247, -0.02134832, -0.02566728, ...,  0.02824436,\n",
            "       -0.01810851,  0.01172642]), 'global': array([ 0.01623746, -0.00731502,  0.00882747, ..., -0.01788899,\n",
            "       -0.01604652,  0.01306383]), 'symbol': array([ 0.10695132, -0.03139679,  0.04178952, ...,  0.11414731,\n",
            "       -0.06424155, -0.02627528]), 'resistance': array([ 0.16539086,  0.1276116 ,  0.10013289, ...,  0.02439902,\n",
            "       -0.04547131, -0.13592952]), 'against': array([-0.1169042 , -0.01216433, -0.01681071, ...,  0.02545395,\n",
            "        0.07884973, -0.00457586]), 'racial': array([-0.02412857, -0.00992696, -0.08641205, ..., -0.03636161,\n",
            "       -0.10436866, -0.00475413]), 'oppression': array([-0.00163605, -0.01650224, -0.01002274, ...,  0.0145603 ,\n",
            "       -0.00125199,  0.00365508]), 'story': array([-0.06110225, -0.16308503,  0.04372295, ..., -0.20287825,\n",
            "        0.11521163,  0.0097875 ]), 'incredible': array([ 0.00263396, -0.02092207, -0.02000129, ..., -0.02007186,\n",
            "        0.00103318,  0.01062087]), 'resilience': array([ 0.03407715,  0.03686712, -0.03498586, ..., -0.04143617,\n",
            "       -0.0306046 , -0.01782825]), 'sacrifice': array([-0.00251154, -0.01729413, -0.01716295, ...,  0.01785172,\n",
            "        0.01046229, -0.00281529]), 'an': array([-0.02812512, -0.01391186,  0.01940308, ...,  0.02217154,\n",
            "       -0.0266663 , -0.0004287 ]), 'unwavering': array([-0.0633445 ,  0.15258401, -0.0474756 , ..., -0.02739744,\n",
            "       -0.17334149,  0.02818307]), 'commitment': array([ 0.03443049, -0.00194848,  0.02638199, ...,  0.01179525,\n",
            "       -0.03173922, -0.03978414]), 'justice': array([ 0.05623049, -0.11208666, -0.05722962, ..., -0.07415567,\n",
            "       -0.04172408, -0.00732448]), 'life': array([-0.00055592,  0.02180586,  0.02000366, ..., -0.0117013 ,\n",
            "        0.00152585,  0.01326698]), 'testament': array([-0.11168654,  0.01762165,  0.05676097, ..., -0.06116468,\n",
            "        0.11488391, -0.01559514]), 'power': array([ 0.01496837, -0.00971288,  0.01992267, ..., -0.0190418 ,\n",
            "        0.00045743, -0.01344789]), 'hope': array([ 0.24282636,  0.25372654,  0.19829378, ...,  0.27124984,\n",
            "        0.15631068, -0.18229883]), 'perseverance': array([-0.00574696,  0.02437396,  0.05086999, ...,  0.04385832,\n",
            "       -0.01585329, -0.03838653]), 'face': array([-8.66857660e-03,  6.81074251e-03,  3.04648365e-03, ...,\n",
            "        7.97094982e-05, -1.70737596e-02, -1.68179488e-02]), 'unimaginable': array([-0.10000594, -0.26471576, -0.17638293, ..., -0.10491953,\n",
            "        0.19922311,  0.15951429]), 'adversity': array([-0.12971946, -0.00792286, -0.11523519, ..., -0.0915805 ,\n",
            "       -0.11956605, -0.04971928])}\n"
          ]
        }
      ]
    },
    {
      "cell_type": "code",
      "source": [
        "save_weights_and_bias_to_csv(W[0],B[0], \"layer1\")\n",
        "save_weights_and_bias_to_csv(W[1],B[1], \"layer2\")"
      ],
      "metadata": {
        "colab": {
          "base_uri": "https://localhost:8080/"
        },
        "id": "UInwJ4-rYazn",
        "outputId": "01577660-cc69-4340-ba64-425bbcac763c"
      },
      "execution_count": null,
      "outputs": [
        {
          "output_type": "stream",
          "name": "stdout",
          "text": [
            "Weights saved to layer1_weights.csv\n",
            "Bias saved to layer1_bias.csv\n",
            "Weights saved to layer2_weights.csv\n",
            "Bias saved to layer2_bias.csv\n"
          ]
        }
      ]
    },
    {
      "cell_type": "code",
      "source": [
        "def load_weights_and_bias_from_csv(weights_file, bias_file):\n",
        "    # Load the weight matrix\n",
        "    weights = np.loadtxt(weights_file, delimiter=\",\")\n",
        "    print(f\"Weights loaded from {weights_file}\")\n",
        "\n",
        "    # Load the bias vector\n",
        "    bias = np.loadtxt(bias_file, delimiter=\",\").flatten()  # Flatten to ensure 1D array\n",
        "    print(f\"Bias loaded from {bias_file}\")\n",
        "\n",
        "    return weights, bias"
      ],
      "metadata": {
        "id": "l7NufGk6ZXkX"
      },
      "execution_count": null,
      "outputs": []
    },
    {
      "cell_type": "code",
      "source": [
        "weights_file = \"layer1_weights.csv\"\n",
        "bias_file = \"layer1_bias.csv\"\n",
        "\n",
        "W[0], B[0] = load_weights_and_bias_from_csv(weights_file, bias_file)\n",
        "\n",
        "weights_file = \"layer1_weights.csv\"\n",
        "bias_file = \"layer1_bias.csv\"\n",
        "\n",
        "W[0], B[0] = load_weights_and_bias_from_csv(weights_file, bias_file)"
      ],
      "metadata": {
        "colab": {
          "base_uri": "https://localhost:8080/"
        },
        "id": "jLS8wyNVZb0l",
        "outputId": "c023b1b0-0efd-4368-e26e-1cbc1a13ab25"
      },
      "execution_count": null,
      "outputs": [
        {
          "output_type": "stream",
          "name": "stdout",
          "text": [
            "Weights loaded from layer1_weights.csv\n",
            "Bias loaded from layer1_bias.csv\n",
            "Weights:\n",
            " [[ 0.025751  0.004074 -0.020283 ... -0.001982 -0.006074  0.008556]\n",
            " [-0.029745  0.028398  0.026305 ... -0.001691 -0.001969 -0.018734]\n",
            " [-0.024593 -0.026645  0.024859 ... -0.024315 -0.031186 -0.011017]\n",
            " ...\n",
            " [ 0.004256 -0.02576   0.01375  ...  0.025949 -0.023383 -0.009224]\n",
            " [ 0.028341  0.011786  0.029086 ... -0.011705 -0.00673   0.016518]\n",
            " [-0.005886 -0.025363 -0.011046 ...  0.027958  0.006634  0.027689]]\n",
            "Bias:\n",
            " [-0.022956  0.020235  0.013875 ... -0.009459 -0.026704 -0.019848]\n"
          ]
        }
      ]
    },
    {
      "cell_type": "code",
      "source": [],
      "metadata": {
        "id": "-y9smQ2RaeJq"
      },
      "execution_count": null,
      "outputs": []
    },
    {
      "cell_type": "code",
      "source": [],
      "metadata": {
        "id": "XenHWNQcae3j"
      },
      "execution_count": null,
      "outputs": []
    }
  ]
}